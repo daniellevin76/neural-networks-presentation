{
 "cells": [
  {
   "cell_type": "markdown",
   "id": "17238775",
   "metadata": {},
   "source": [
    "# Neural Networks"
   ]
  },
  {
   "cell_type": "markdown",
   "id": "12942886-baf1-4575-bd23-2d5cbadcea28",
   "metadata": {
    "tags": [
     "hide_cell"
    ]
   },
   "source": [
    " ### Training the network\n",
    "Training the network is equivalent of determining the weights and biases in the network that minimizes the loss. It consists of two major parts, forward propagation and back propagation. In the forward propagation there are two operations that are taking place: summation and activation."
   ]
  },
  {
   "cell_type": "markdown",
   "id": "a0540350-4ecf-4e89-8eeb-89c1f9721d3d",
   "metadata": {},
   "source": [
    "<img src=\"nn5.png\" width=\"800\" height=\"600\">\n"
   ]
  },
  {
   "cell_type": "markdown",
   "id": "b9157e78-87e6-48f3-811a-c8107e1f3165",
   "metadata": {},
   "source": [
    "### One neuron\n"
   ]
  },
  {
   "cell_type": "markdown",
   "id": "e86a59c6-73aa-42ce-953b-e288a1d41993",
   "metadata": {},
   "source": [
    "<img src=\"nn3.png\" width=\"400\" height=\"300\">\n"
   ]
  },
  {
   "cell_type": "markdown",
   "id": "26b301e3",
   "metadata": {},
   "source": [
    "#### Summation\n",
    "The idea is to multiply each input value with a weight, which constitues the linear part. \n",
    "$$z = \\vec{\\omega}^{^T} \\cdot \\vec{x} = \\sum_{i=0}^{n} = \\omega_{i}x_{i}$$"
   ]
  },
  {
   "cell_type": "markdown",
   "id": "f7e19ad1-b066-43c8-909b-591944f23f62",
   "metadata": {},
   "source": [
    "$$z= \\omega_{0}x_0 + \\omega_1 x_1 + \\omega_2 x_2 +\\omega_3 x_3$$\n",
    "By setting $x_0 = 1 $ then $w_0$ takes the role of the bias in the neural network. The equation becomes:\n",
    "$$z=  \\omega_1 x_1 + \\omega_2 x_2 +\\omega_3 x_3 + b$$"
   ]
  },
  {
   "cell_type": "markdown",
   "id": "e884f418-c7d0-4720-b47b-fc3d27619342",
   "metadata": {},
   "source": [
    "#### Activation\n",
    "The value of $z$ is passed to an activation function. \n",
    "$$a(z)$$\n",
    "Some known activation functions:"
   ]
  },
  {
   "cell_type": "code",
   "execution_count": 14,
   "id": "61186904-1959-496d-b06c-37ce6f30f954",
   "metadata": {
    "jupyter": {
     "source_hidden": true
    }
   },
   "outputs": [],
   "source": [
    "import numpy as np\n",
    "\n",
    "# Sigmoid function\n",
    "def sigmoid(x):\n",
    "    return 1 / (1 + np.exp(-x))\n",
    "\n",
    "# ReLU function\n",
    "def relu(x):\n",
    "    return np.maximum(0, x)\n",
    "\n",
    "# Leaky ReLU function\n",
    "def leaky_relu(x, alpha=0.01):\n",
    "    return np.where(x > 0, x, x * alpha)\n",
    "\n",
    "# Tanh function\n",
    "def tanh(x):\n",
    "    return np.tanh(x)"
   ]
  },
  {
   "cell_type": "code",
   "execution_count": 15,
   "id": "5cebc44d-9d36-462f-b337-6128586350e6",
   "metadata": {},
   "outputs": [
    {
     "data": {
      "image/png": "[encoded data removed]",
      "text/plain": [
       "<Figure size 600x400 with 4 Axes>"
      ]
     },
     "metadata": {},
     "output_type": "display_data"
    }
   ],
   "source": [
    "import matplotlib.pyplot as plt\n",
    "\n",
    "x = np.linspace(-10,10,100)\n",
    "\n",
    "plt.figure(figsize=(6, 4))  # Adjust the size as needed\n",
    "y1 = sigmoid(x)\n",
    "y2 = relu(x)\n",
    "y3 = leaky_relu(x)\n",
    "y4 = tanh(x)\n",
    "# Plot 1\n",
    "plt.subplot(2, 2, 1)  # (rows, columns, plot_number)\n",
    "plt.plot(x, y1)\n",
    "plt.title('Sigmoid')\n",
    "\n",
    "# Plot 2\n",
    "plt.subplot(2, 2, 2)  # Second plot in a 2x2 grid\n",
    "plt.plot(x, y2, color = 'green')\n",
    "plt.title('ReLU')\n",
    "\n",
    "# Plot 3\n",
    "plt.subplot(2, 2, 3)  # Third plot in a 2x2 grid\n",
    "plt.plot(x, y3, color = 'red')\n",
    "plt.title('Leaky ReLU')\n",
    "\n",
    "# Plot 4\n",
    "plt.subplot(2, 2, 4)  # Fourth plot in a 2x2 grid\n",
    "plt.plot(x, y4, color = 'm')\n",
    "plt.title('Hyperbolic Tangent')\n",
    "\n",
    "# Adjust layout to prevent overlapping\n",
    "plt.tight_layout()\n",
    "\n",
    "# Show the plot\n",
    "plt.show()\n",
    "zig = 1/(1 + np.exp(-x)) # Sigmoid function\n",
    "\n"
   ]
  },
  {
   "cell_type": "markdown",
   "id": "b81e869b-e6e6-4a86-b232-602575a04531",
   "metadata": {},
   "source": [
    "### A simple example\n",
    "Summation\n",
    "$$ \\vec{\\omega}^T = \\begin{bmatrix} -0.01 & 0.2 & 0.1 & 0.03 & -0.04 \\end{bmatrix} \\quad \\text{and} \\quad \\vec{x} = \\begin{bmatrix} 4583 \\\\ 1508.0 \\\\ 128.0 \\\\ 360.0 \\\\ 1.0 \\end{bmatrix} $$\n",
    "And for the bias, we can choose 0.01."
   ]
  },
  {
   "cell_type": "markdown",
   "id": "2567e31f-1a86-40be-bf24-c9f9e6bb2078",
   "metadata": {},
   "source": [
    "$$z = -0.01 \\cdot 4583 + 0.02 \\cdot 1508 + 0.1 \\cdot 128 + 0.03 \\cdot 360 - 0.04 \\cdot 1 + 0.01$$"
   ]
  },
  {
   "cell_type": "markdown",
   "id": "4ffffeae-6088-45b5-a4b1-982ca01847f4",
   "metadata": {},
   "source": [
    "The value of $z$, which constitutes the linear part is passed to the activation function to produce one single number.\n",
    "$$a(z) = \\sigma (z) = \\frac{1}{1+e^{-z}}$$"
   ]
  },
  {
   "cell_type": "code",
   "execution_count": 12,
   "id": "b4ba45e0-8100-46de-ab3d-95a1247eb6ac",
   "metadata": {},
   "outputs": [
    {
     "data": {
      "text/plain": [
       "278.9700000000001"
      ]
     },
     "execution_count": 12,
     "metadata": {},
     "output_type": "execute_result"
    }
   ],
   "source": [
    "# Calculate the linear part\n",
    "x = [4583, 1508, 128, 360, 1 ]\n",
    "omega = [-0.01, 0.2, 0.1, 0.03, -0.4]\n",
    "\n",
    "# Compute the scalar product of x and omega\n",
    "z = sum([x_i * omega_i for x_i, omega_i in zip(x, omega)]) + 0\n",
    "z"
   ]
  },
  {
   "cell_type": "code",
   "execution_count": 13,
   "id": "3d8957a1-d900-4553-b061-4ccae67afc87",
   "metadata": {},
   "outputs": [
    {
     "data": {
      "text/plain": [
       "1.0"
      ]
     },
     "execution_count": 13,
     "metadata": {},
     "output_type": "execute_result"
    }
   ],
   "source": [
    "# Pass that value into the activation function\n",
    "import numpy as np\n",
    "def sigmoid(x):\n",
    "    return 1 / (1 + np.exp(-x))\n",
    "\n",
    "a = sigmoid(z)\n",
    "a\n"
   ]
  },
  {
   "cell_type": "markdown",
   "id": "32e93e90-c043-4287-aaac-6742ba9c2660",
   "metadata": {},
   "source": [
    "### Forward Propagation\n",
    "Let's take a look at more nodes"
   ]
  },
  {
   "cell_type": "markdown",
   "id": "de79e0e4-2a85-4b57-a287-62d406a951e8",
   "metadata": {},
   "source": [
    "<img src=\"nn4.png\" width=\"400\" height=\"300\">"
   ]
  },
  {
   "cell_type": "markdown",
   "id": "b6e07e73-6484-440e-a3b3-7ffedf279551",
   "metadata": {},
   "source": [
    "In the first layer\n",
    "$$z_{1}^{[1]} = \\vec{\\omega}^{[1]}_1 \\cdot \\vec{x}  + b_1^{[1]}$$ \n",
    "$$z_{2}^{[1]} = \\vec{\\omega}^{[1]}_2 \\cdot \\vec{x}  + b_2^{[2]}$$\n",
    "$$z_{3}^{[1]} = \\vec{\\omega}^{[1]}_3 \\cdot \\vec{x}  + b_3^{[2]}$$\n",
    "$$a_{1}^{[1]} = \\sigma (z_{1}^{[1]})$$ \n",
    "$$a_{2}^{[1]} = \\sigma (z_{2}^{[1]})$$ \n",
    "$$a_{3}^{[1]} = \\sigma (z_{3}^{[1]})$$ \n"
   ]
  },
  {
   "cell_type": "markdown",
   "id": "d8004e9c-7d72-419e-a5ce-06d179789ecd",
   "metadata": {},
   "source": [
    "Now let $$\\vec{a}^{[1]} = \\begin{bmatrix} a^{[1]}_1 \\\\ a^{[1]}_2 \\\\ a^{[1]}_3 \\end{bmatrix}$$"
   ]
  },
  {
   "cell_type": "markdown",
   "id": "79d9c3e0-1ad2-4c21-aad9-639fe829d7c0",
   "metadata": {},
   "source": [
    "In the seconda layer\n",
    "$$z_{1}^{[2]} = \\vec{\\omega}^{[2]}_1 \\cdot \\vec{a}^{[1]}  + b_1^{[2]}$$ \n",
    "$$z_{2}^{[2]} = \\vec{\\omega}^{[2]}_2 \\cdot \\vec{a}^{[1]}  + b_2^{[2]}$$\n",
    "\n",
    "$$a_{1}^{[2]} = \\sigma (z_{1}^{[2]})$$ \n",
    "$$a_{2}^{[2]} = \\sigma (z_{2}^{[2]})$$ \n",
    "\n"
   ]
  },
  {
   "cell_type": "markdown",
   "id": "0f379664-8987-4d77-9844-b55c6b92f345",
   "metadata": {},
   "source": [
    "In the third layer\n",
    "$$z^{[3]} = \\vec{\\omega}^{[3]} \\cdot \\vec{a}^{[2]}  + b_1^{[3]}$$ \n",
    "$$\\hat{y} = a^{[3]} = \\sigma (z^{[3]})$$ "
   ]
  },
  {
   "cell_type": "markdown",
   "id": "d33f79ad-482c-4078-b54b-ae236c9cd975",
   "metadata": {},
   "source": [
    "#### Loss/cost function\n",
    "$$\\jmath = -\\frac{1}{N} \\sum_{i=1}^{N} \\left[ y_i \\log(\\hat{y}_i) + (1 - y_i) \\log(1 - \\hat{y}_i) \\right]$$\n",
    "$$J(y, \\hat{y}) = -\\left[ y \\log(\\hat{y}) + (1 - y) \\log(1 - \\hat{y}) \\right]$$"
   ]
  },
  {
   "cell_type": "markdown",
   "id": "40a659a5-bfd6-4e4a-9985-05b58410e078",
   "metadata": {},
   "source": [
    "### Gradient Descent\n",
    "$$\\Omega = \\Omega - \\eta \\Delta_{\\Omega} J(\\Omega) $$"
   ]
  },
  {
   "cell_type": "markdown",
   "id": "7296fa90-27c1-4c51-ba9b-f131adbc0c53",
   "metadata": {},
   "source": [
    "### Backpropagation\n",
    "$$\\frac{\\partial J}{\\partial \\omega^{[3]}} = \\frac{\\partial J}{\\partial a^{[3]}} \\cdot \\frac{\\partial a^{[3]}}{\\partial z^{[3]}} \\cdot \\frac{\\partial z^{[3]}}{\\partial \\omega^{[3]}}$$"
   ]
  },
  {
   "cell_type": "markdown",
   "id": "d6830ac7-117a-445f-ba1d-1a42d1eaa7cc",
   "metadata": {},
   "source": [
    "$$\\frac{\\partial J}{\\partial \\omega^{[2]}} = \\frac{\\partial J}{\\partial z^{[3]}} \\cdot \\frac{\\partial z^{[3]}}{\\partial a^{[2]}} \\cdot \\frac{\\partial a^{[2]}}{\\partial z^{[2]}} \\cdot \\frac{\\partial z^{[2]}}{\\partial \\omega^{[2]}}$$"
   ]
  },
  {
   "cell_type": "markdown",
   "id": "39629b17-769e-4629-b469-cbbb436d3d03",
   "metadata": {},
   "source": [
    "$$\\frac{\\partial J}{\\partial \\omega^{[1]}} = \\frac{\\partial J}{\\partial z^{[2]}} \\cdot \\frac{\\partial z^{[2]}}{\\partial a^{[1]}} \\cdot \\frac{\\partial a^{[1]}}{\\partial z^{[1]}} \\cdot \\frac{\\partial z^{[1]}}{\\partial \\omega^{[1]}}$$"
   ]
  }
 ],
 "metadata": {
  "celltoolbar": "Raw Cell Format",
  "kernelspec": {
   "display_name": "Python 3 (ipykernel)",
   "language": "python",
   "name": "python3"
  },
  "language_info": {
   "codemirror_mode": {
    "name": "ipython",
    "version": 3
   },
   "file_extension": ".py",
   "mimetype": "text/x-python",
   "name": "python",
   "nbconvert_exporter": "python",
   "pygments_lexer": "ipython3",
   "version": "3.11.5"
  }
 },
 "nbformat": 4,
 "nbformat_minor": 5
}
