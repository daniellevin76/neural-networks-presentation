{
 "cells": [
  {
   "cell_type": "markdown",
   "id": "17238775",
   "metadata": {
    "jp-MarkdownHeadingCollapsed": true
   },
   "source": [
    "# Neural Networks"
   ]
  },
  {
   "cell_type": "markdown",
   "id": "7fee81a3",
   "metadata": {
    "tags": [
     "hide_cell"
    ]
   },
   "source": [
    "# Training the Neural Networ\n",
    "There are two major parts to training a neural network, a forward propagation and a backpropagation. The forward propagation is straight forward and is the easy part. When propagating forward through the layers of the network, there are two operations to have in mind: Summation and activation.\n",
    "\n",
    "Train the network on gray scale image of digits."
   ]
  },
  {
   "cell_type": "markdown",
   "id": "a0540350-4ecf-4e89-8eeb-89c1f9721d3d",
   "metadata": {},
   "source": [
    "<img src=\"nn1.png\" width=\"400\" height=\"300\">\n",
    "\r\n"
   ]
  },
  {
   "cell_type": "markdown",
   "id": "b9157e78-87e6-48f3-811a-c8107e1f3165",
   "metadata": {},
   "source": [
    "### A simple example\n"
   ]
  },
  {
   "cell_type": "markdown",
   "id": "26b301e3",
   "metadata": {},
   "source": [
    "The idea is to multiply each input value with a weight, which constitues the linear part. \n",
    "$$z = \\vec{\\omega}^{^T}\\vec{x} = \\sum_{i=0}^{n} = \\omega_{i}x_{i}$$"
   ]
  },
  {
   "cell_type": "code",
   "execution_count": null,
   "id": "908eb7ae-3694-4fdb-b4a1-d6336257cf7c",
   "metadata": {},
   "outputs": [],
   "source": []
  },
  {
   "cell_type": "markdown",
   "id": "1d81b09e-1d02-4cef-b3d2-483a0875ef7d",
   "metadata": {},
   "source": [
    "<img src=\"nn3.png\" width=\"400\" height=\"300\">\n",
    "\r\n"
   ]
  },
  {
   "cell_type": "code",
   "execution_count": 2,
   "id": "ecce73bd-fa90-4c17-a8c6-ac65b0c1b371",
   "metadata": {},
   "outputs": [
    {
     "data": {
      "text/html": [
       "<div>\n",
       "<style scoped>\n",
       "    .dataframe tbody tr th:only-of-type {\n",
       "        vertical-align: middle;\n",
       "    }\n",
       "\n",
       "    .dataframe tbody tr th {\n",
       "        vertical-align: top;\n",
       "    }\n",
       "\n",
       "    .dataframe thead th {\n",
       "        text-align: right;\n",
       "    }\n",
       "</style>\n",
       "<table border=\"1\" class=\"dataframe\">\n",
       "  <thead>\n",
       "    <tr style=\"text-align: right;\">\n",
       "      <th></th>\n",
       "      <th>filename</th>\n",
       "      <th>original filename</th>\n",
       "      <th>scanid</th>\n",
       "      <th>digit</th>\n",
       "      <th>database name original</th>\n",
       "      <th>contributing team</th>\n",
       "      <th>database name</th>\n",
       "    </tr>\n",
       "  </thead>\n",
       "  <tbody>\n",
       "    <tr>\n",
       "      <th>0</th>\n",
       "      <td>a00000.png</td>\n",
       "      <td>Scan_58_digit_5_num_8.png</td>\n",
       "      <td>58</td>\n",
       "      <td>5</td>\n",
       "      <td>BHDDB</td>\n",
       "      <td>Buet_Broncos</td>\n",
       "      <td>training-a</td>\n",
       "    </tr>\n",
       "    <tr>\n",
       "      <th>1</th>\n",
       "      <td>a00001.png</td>\n",
       "      <td>Scan_73_digit_3_num_5.png</td>\n",
       "      <td>73</td>\n",
       "      <td>3</td>\n",
       "      <td>BHDDB</td>\n",
       "      <td>Buet_Broncos</td>\n",
       "      <td>training-a</td>\n",
       "    </tr>\n",
       "    <tr>\n",
       "      <th>2</th>\n",
       "      <td>a00002.png</td>\n",
       "      <td>Scan_18_digit_1_num_3.png</td>\n",
       "      <td>18</td>\n",
       "      <td>1</td>\n",
       "      <td>BHDDB</td>\n",
       "      <td>Buet_Broncos</td>\n",
       "      <td>training-a</td>\n",
       "    </tr>\n",
       "    <tr>\n",
       "      <th>3</th>\n",
       "      <td>a00003.png</td>\n",
       "      <td>Scan_166_digit_7_num_3.png</td>\n",
       "      <td>166</td>\n",
       "      <td>7</td>\n",
       "      <td>BHDDB</td>\n",
       "      <td>Buet_Broncos</td>\n",
       "      <td>training-a</td>\n",
       "    </tr>\n",
       "    <tr>\n",
       "      <th>4</th>\n",
       "      <td>a00004.png</td>\n",
       "      <td>Scan_108_digit_0_num_1.png</td>\n",
       "      <td>108</td>\n",
       "      <td>0</td>\n",
       "      <td>BHDDB</td>\n",
       "      <td>Buet_Broncos</td>\n",
       "      <td>training-a</td>\n",
       "    </tr>\n",
       "    <tr>\n",
       "      <th>...</th>\n",
       "      <td>...</td>\n",
       "      <td>...</td>\n",
       "      <td>...</td>\n",
       "      <td>...</td>\n",
       "      <td>...</td>\n",
       "      <td>...</td>\n",
       "      <td>...</td>\n",
       "    </tr>\n",
       "    <tr>\n",
       "      <th>19697</th>\n",
       "      <td>a19697.png</td>\n",
       "      <td>Scan_81_digit_4_num_3.png</td>\n",
       "      <td>81</td>\n",
       "      <td>4</td>\n",
       "      <td>BHDDB</td>\n",
       "      <td>Buet_Broncos</td>\n",
       "      <td>training-a</td>\n",
       "    </tr>\n",
       "    <tr>\n",
       "      <th>19698</th>\n",
       "      <td>a19698.png</td>\n",
       "      <td>Scan_70_digit_3_num_6.png</td>\n",
       "      <td>70</td>\n",
       "      <td>3</td>\n",
       "      <td>BHDDB</td>\n",
       "      <td>Buet_Broncos</td>\n",
       "      <td>training-a</td>\n",
       "    </tr>\n",
       "    <tr>\n",
       "      <th>19699</th>\n",
       "      <td>a19699.png</td>\n",
       "      <td>Scan_253_digit_8_num_4.png</td>\n",
       "      <td>253</td>\n",
       "      <td>8</td>\n",
       "      <td>BHDDB</td>\n",
       "      <td>Buet_Broncos</td>\n",
       "      <td>training-a</td>\n",
       "    </tr>\n",
       "    <tr>\n",
       "      <th>19700</th>\n",
       "      <td>a19700.png</td>\n",
       "      <td>Scan_27_digit_3_num_6.png</td>\n",
       "      <td>27</td>\n",
       "      <td>3</td>\n",
       "      <td>BHDDB</td>\n",
       "      <td>Buet_Broncos</td>\n",
       "      <td>training-a</td>\n",
       "    </tr>\n",
       "    <tr>\n",
       "      <th>19701</th>\n",
       "      <td>a19701.png</td>\n",
       "      <td>Scan_91_digit_8_num_2.png</td>\n",
       "      <td>91</td>\n",
       "      <td>8</td>\n",
       "      <td>BHDDB</td>\n",
       "      <td>Buet_Broncos</td>\n",
       "      <td>training-a</td>\n",
       "    </tr>\n",
       "  </tbody>\n",
       "</table>\n",
       "<p>19702 rows × 7 columns</p>\n",
       "</div>"
      ],
      "text/plain": [
       "         filename           original filename  scanid  digit  \\\n",
       "0      a00000.png   Scan_58_digit_5_num_8.png      58      5   \n",
       "1      a00001.png   Scan_73_digit_3_num_5.png      73      3   \n",
       "2      a00002.png   Scan_18_digit_1_num_3.png      18      1   \n",
       "3      a00003.png  Scan_166_digit_7_num_3.png     166      7   \n",
       "4      a00004.png  Scan_108_digit_0_num_1.png     108      0   \n",
       "...           ...                         ...     ...    ...   \n",
       "19697  a19697.png   Scan_81_digit_4_num_3.png      81      4   \n",
       "19698  a19698.png   Scan_70_digit_3_num_6.png      70      3   \n",
       "19699  a19699.png  Scan_253_digit_8_num_4.png     253      8   \n",
       "19700  a19700.png   Scan_27_digit_3_num_6.png      27      3   \n",
       "19701  a19701.png   Scan_91_digit_8_num_2.png      91      8   \n",
       "\n",
       "      database name original contributing team database name  \n",
       "0                      BHDDB      Buet_Broncos    training-a  \n",
       "1                      BHDDB      Buet_Broncos    training-a  \n",
       "2                      BHDDB      Buet_Broncos    training-a  \n",
       "3                      BHDDB      Buet_Broncos    training-a  \n",
       "4                      BHDDB      Buet_Broncos    training-a  \n",
       "...                      ...               ...           ...  \n",
       "19697                  BHDDB      Buet_Broncos    training-a  \n",
       "19698                  BHDDB      Buet_Broncos    training-a  \n",
       "19699                  BHDDB      Buet_Broncos    training-a  \n",
       "19700                  BHDDB      Buet_Broncos    training-a  \n",
       "19701                  BHDDB      Buet_Broncos    training-a  \n",
       "\n",
       "[19702 rows x 7 columns]"
      ]
     },
     "execution_count": 2,
     "metadata": {},
     "output_type": "execute_result"
    }
   ],
   "source": [
    "import pandas as pd\n",
    "df = pd.read_csv('training-a.csv')\n",
    "df"
   ]
  },
  {
   "cell_type": "markdown",
   "id": "fc37500a-527f-4194-a385-b9ecdd78ff66",
   "metadata": {},
   "source": [
    "$$ \\sum_{i=0}^{5} \\theta_{i} = \\theta_{0} + \\theta_{1} + \\theta_{2} + \\theta_{3} + \\theta_{4} + \\theta_{5} $$\n",
    "$$ \\sum_{i=0}^{5} \\theta_{i} = 2 + 5 + (-1) + 3 + 2 + 10 = 21 $$"
   ]
  },
  {
   "cell_type": "markdown",
   "id": "d9144f66",
   "metadata": {},
   "source": [
    "Sum of Polynomials\n",
    "$$\\sum_{i=0}^{3} = x^{i}$$"
   ]
  },
  {
   "cell_type": "code",
   "execution_count": 2,
   "id": "0a376c80",
   "metadata": {},
   "outputs": [
    {
     "name": "stdout",
     "output_type": "stream",
     "text": [
      "Matrix B:\n",
      "[[ 1.2 -0.5]\n",
      " [ 0.   4.7]\n",
      " [-2.1  3.3]]\n"
     ]
    }
   ],
   "source": [
    "# Create the matrix using python\n",
    "B = np.array([[1.2, -0.5], [0, 4.7], [-2.1, 3.3]])\n",
    "print(\"Matrix B:\")\n",
    "print(B)"
   ]
  },
  {
   "cell_type": "markdown",
   "id": "015a443f",
   "metadata": {},
   "source": [
    "### Matrix addition\n",
    "Matrix addition (needless to say that subtraction follows the same rule) is done entry-wise and hence the matrices must have the same dimentionality. \n",
    "One can not for instance add a $2\\times 3$ matrix with a $3 \\times 2$ matrix. Same goes for vectors. <br>\n",
    "Let $A$ and $B$ be two 2x3 matrices with entries $a_{ij}$ and $b_{ij}$, respectively. Then we can add these matrices entry-wise to obtain the sum $C = A + B$:\n",
    "\n",
    "$$\n",
    "A = \\begin{bmatrix} 2 & 6 & -8 \\\\ -7 & 3 & 1 \\end{bmatrix} \\quad \\text{and} \\quad B = \\begin{bmatrix} 5 & -2 & 4 \\\\ 0 & -5 & 9 \\end{bmatrix}\n",
    "$$\n",
    "\n",
    "To compute $C = A + B$, we add the corresponding entries of $A$ and $B$:\n",
    "\n",
    "$$\n",
    "C = A + B = \\begin{bmatrix} 2+5 & 6+(-2) & (-8)+4 \\\\ (-7)+0 & 3+(-5) & 1+9 \\end{bmatrix} = \\begin{bmatrix} 7 & 4 & -4 \\\\ -7 & -2 & 10 \\end{bmatrix}\n",
    "$$"
   ]
  },
  {
   "cell_type": "code",
   "execution_count": 3,
   "id": "72d57eef",
   "metadata": {},
   "outputs": [
    {
     "name": "stdout",
     "output_type": "stream",
     "text": [
      "C = A + B:\n",
      " [[ 7  4 -4]\n",
      " [-7 -2 10]]\n"
     ]
    }
   ],
   "source": [
    "# Python\n",
    "A = np.array([[2,6,-8],[-7,3,1]])\n",
    "B = np.array([[5,-2,4],[0,-5,9]])\n",
    "C = A + B\n",
    "print(\"C = A + B:\\n\", C)"
   ]
  },
  {
   "cell_type": "markdown",
   "id": "630bba52-c7cb-491c-9145-8a86bb1cad8f",
   "metadata": {},
   "source": [
    "Rewrite the following sum as s scalar product of two vector:\n",
    "$$ \\sum_{i=0}^{n}\\omega_{i} x_{i}$$"
   ]
  },
  {
   "cell_type": "markdown",
   "id": "7a562976",
   "metadata": {},
   "source": [
    "### Vector - definition\n",
    "A vector is a special kind of matrix that consists of either one row (called row vector) or one column (called column vector).\n",
    "Given $\\vec{u}$ and $\\vec{v}$ as:\n",
    "$$ \\vec{\\theta} = \\begin{bmatrix} \\theta_1 & \\theta_2 & \\theta_3 \\end{bmatrix} \\quad \\text{and} \\quad \\vec{x} = \\begin{bmatrix} x_1 \\\\ x_2 \\\\ x_3 \\end{bmatrix} $$\n",
    "Here $\\vec{u}$ is a row vector while $\\vec{v}$ is a column vector. <br>\n",
    "As an example, we could have $\\vec{\\theta} = \\begin{bmatrix} 3 & -4 & 2 \\end{bmatrix}$ and $\\vec{x} = \\begin{bmatrix} -1 \\\\ 5 \\\\ -2 \\end{bmatrix}$.\n"
   ]
  },
  {
   "cell_type": "markdown",
   "id": "37da6026-cca2-4a9c-8585-f19883592655",
   "metadata": {},
   "source": [
    "$$ \\sum_{i=0}^{5}\\theta_{i} x_{i} = \\theta_{0}x_0 + \\theta_{1}x_1 + \\theta_{2}x_2 + \\theta_{3}x_3 + \\theta_{4}x_4 + \\theta_{5}x_5 $$\n",
    "$$ \\sum_{i=0}^{5}\\theta_{i} x_{i} = \\vec{\\theta} \\cdot \\vec{x} $$"
   ]
  },
  {
   "cell_type": "code",
   "execution_count": 5,
   "id": "9827ecdf",
   "metadata": {},
   "outputs": [
    {
     "name": "stdout",
     "output_type": "stream",
     "text": [
      "a = -27\n"
     ]
    }
   ],
   "source": [
    "# Python\n",
    "u = np.array([3,-4,2])\n",
    "v = np.array([-1,5,-2])\n",
    "a = np.dot(u,v)\n",
    "print(\"a =\", a)"
   ]
  },
  {
   "cell_type": "markdown",
   "id": "a99dbbe8-ede2-44aa-8c7b-9efa2343e11c",
   "metadata": {},
   "source": [
    "The loss function for the logistic regression:\n",
    "$$J = - \\lbrack y \\text{ log } \\hat{y} + (1-y) \\text{ log } (1 - \\hat{y}) \\rbrack $$"
   ]
  },
  {
   "cell_type": "code",
   "execution_count": null,
   "id": "6b1bbe8d-2545-434c-92ab-6598cf696902",
   "metadata": {},
   "outputs": [],
   "source": []
  }
 ],
 "metadata": {
  "celltoolbar": "Raw Cell Format",
  "kernelspec": {
   "display_name": "Python 3 (ipykernel)",
   "language": "python",
   "name": "python3"
  },
  "language_info": {
   "codemirror_mode": {
    "name": "ipython",
    "version": 3
   },
   "file_extension": ".py",
   "mimetype": "text/x-python",
   "name": "python",
   "nbconvert_exporter": "python",
   "pygments_lexer": "ipython3",
   "version": "3.11.5"
  }
 },
 "nbformat": 4,
 "nbformat_minor": 5
}
