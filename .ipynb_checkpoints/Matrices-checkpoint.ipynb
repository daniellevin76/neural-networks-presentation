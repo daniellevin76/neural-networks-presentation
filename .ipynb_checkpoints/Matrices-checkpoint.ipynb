{
 "cells": [
  {
   "cell_type": "markdown",
   "id": "17238775",
   "metadata": {},
   "source": [
    "# Matrices and Vectors"
   ]
  },
  {
   "cell_type": "markdown",
   "id": "7fee81a3",
   "metadata": {
    "tags": [
     "hide_cell"
    ]
   },
   "source": [
    "### Summation notation $\\sum$\n",
    "\n",
    "The sum notation $\\sum$ is a convenient way to express the sum of a series of terms. Let's start with a simple example, the sum of the natural number from 1 to 5:\n",
    "$$ \\sum_{i=1}^{5} i = 1 + 2 + 3 + 4 + 5 $$\n",
    "The example can be generalized to sum from 1 to n:\n",
    "$$ \\sum_{i=1}^{n} i = 1 + 2 + 3 + ... + n $$ "
   ]
  },
  {
   "cell_type": "markdown",
   "id": "6e2492c8",
   "metadata": {},
   "source": [
    "Given an array $\\theta = [2, 5, -1, 3, 2, 10]$, determine $$\\sum_{m=0}^{5} \\theta_{m}$$."
   ]
  },
  {
   "cell_type": "markdown",
   "id": "fc37500a-527f-4194-a385-b9ecdd78ff66",
   "metadata": {},
   "source": [
    "$$ \\sum_{m=0}^{5} {\\theta_{m}} = \\theta_{0} + \\theta_{1} + \\theta_{2} + \\theta_{3} + \\theta_{4} + \\theta_{5} $$\n",
    "$$ \\sum_{m=0}^{5} \\theta_{m} = 2 + 5 + (-1) + 3 + 2 + 10 = 21 $$"
   ]
  },
  {
   "cell_type": "markdown",
   "id": "d9144f66",
   "metadata": {},
   "source": [
    "Expand the following sum\n",
    "$$\\sum_{j=0}^{3} = (3-2j)x^{3-j}$$"
   ]
  },
  {
   "cell_type": "markdown",
   "id": "ab01f037-2a57-4ec2-a3c1-9283e75ebbc0",
   "metadata": {},
   "source": [
    "Expanding the sum"
   ]
  },
  {
   "cell_type": "markdown",
   "id": "9340ee89-f1d9-4b79-be13-3a6ddb91dbb6",
   "metadata": {},
   "source": [
    "\n",
    "$$\\sum_{j=0}^{3} = (3-2 \\cdot 0)x^{3-0} + (3-2 \\cdot 1)x^{3-1} + (3-2 \\cdot 2)x^{3-2} + (3-2 \\cdot 3)x^{3-3}$$\n",
    "$$\\sum_{j=0}^{3} = 3x^{3} + x^{2} - x - 3$$"
   ]
  },
  {
   "cell_type": "markdown",
   "id": "26b301e3",
   "metadata": {},
   "source": [
    "How would we expand the following sum:\n",
    "$$\\sum_{i=0}^{n} = \\theta_{i}x_{i}$$"
   ]
  },
  {
   "cell_type": "markdown",
   "id": "4574c441-e35e-4b9b-aa57-17ce68b7db1f",
   "metadata": {},
   "source": [
    "Expanding the sum\n",
    "$$\\sum_{i=0}^{n} = \\theta_{0}x_{0} + \\theta_{1}x_{1} + \\theta_{2}x_{2} + ... + \\theta_{n}x_{n}$$"
   ]
  },
  {
   "cell_type": "markdown",
   "id": "bfe9454e-c45f-40f1-9fc3-20b094120b68",
   "metadata": {},
   "source": [
    "A quick mention of the product notation, which occurs in ML litterature.\n",
    "$$\\prod_{i=0}^{n} x_{i}= x_{0} \\cdot x_{1} \\cdot x_{2} \\cdot ... \\cdot x_{n}$$"
   ]
  },
  {
   "cell_type": "markdown",
   "id": "180ddd5e",
   "metadata": {},
   "source": [
    "### Matrices\n",
    "For all intents and purposes, a matrix is simply an object that consists of elements ordered in such a way that the entries in the matrix create a structure of $m$ rows and $n$ columns. <br>\n",
    "Let $A$ be a matrix with $m$ rows and $n$ columns. The entries of $A$ are denoted by $a_{ij}$, where $i$ shows on which row that specific element is located, and in a similar fasion $j$ shows which column. Thus we have:\n",
    "\n",
    "$$ A = \\begin{bmatrix} a_{11} & a_{12} & \\cdots & a_{1n} \\\\ a_{21} & a_{22} & \\cdots & a_{2n} \\\\ \\vdots & \\vdots & \\ddots & \\vdots \\\\ a_{m1} & a_{m2} & \\cdots & a_{mn} \\end{bmatrix} $$\n",
    "\n",
    "We say that $A$ is an $m \\times n$ matrix, or that $A$ has size $m \\times n$. If $m = n$, we say that $A$ is a square matrix.\n",
    "\n",
    " "
   ]
  },
  {
   "cell_type": "markdown",
   "id": "24d6ca17",
   "metadata": {},
   "source": [
    "As an example, Let $A$ be a 2x3 matrix with entries $a_{ij}$ \n",
    "\n",
    "$$ A = \\begin{bmatrix} a_{11} & a_{12} & a_{13} \\\\ a_{21} & a_{22} & a_{23} \\end{bmatrix} = \\begin{bmatrix} 2 & -5 & 8 \\\\ -1 & 7 & 0 \\end{bmatrix} $$\n",
    "\n",
    "In this example, the entries of the matrix are real valued integers given by: <br>\n",
    "$a_{11} = 2$, $a_{12} = -5$, $a_{13} = 8$, $a_{21} = -1$, $a_{22} = 7$, and $a_{23} = 0$. "
   ]
  },
  {
   "cell_type": "code",
   "execution_count": 1,
   "id": "912d49e6",
   "metadata": {},
   "outputs": [
    {
     "name": "stdout",
     "output_type": "stream",
     "text": [
      "Matrix A:\n",
      "[[ 2 -5  8]\n",
      " [-1  7  0]]\n"
     ]
    }
   ],
   "source": [
    "# Create the matrix using python\n",
    "import numpy as np\n",
    "A = np.array([[2,-5,8],[-1,7,0]])\n",
    "print(\"Matrix A:\")\n",
    "print(A)"
   ]
  },
  {
   "cell_type": "markdown",
   "id": "de7c2b9b",
   "metadata": {},
   "source": [
    "And here is another example: <br>\n",
    "    Let $B$ be a 3x2 matrix with real number entries $b_{ij}$. Then we have:\n",
    "\n",
    "$$ B = \\begin{bmatrix} b_{11} & a_{12} \\\\ b_{21} & a_{22} \\\\ b_{31} & b_{32} \\end{bmatrix} = \\begin{bmatrix} 1.2 & -0.5 \\\\ 0 & 4.7 \\\\ -2.1 & 3.3 \\end{bmatrix} $$\n",
    "\n",
    "In this example, the entries of the matrix are real-valued numbers given by: <br> \n",
    "$b_{11} = 1.2$, $b_{12} = -0.5$, $b_{21} = 0$, $b_{22} = 4.7$, $b_{31} = -2.1$, and $b_{32} = 3.3$. "
   ]
  },
  {
   "cell_type": "code",
   "execution_count": 2,
   "id": "0a376c80",
   "metadata": {},
   "outputs": [
    {
     "name": "stdout",
     "output_type": "stream",
     "text": [
      "Matrix B:\n",
      "[[ 1.2 -0.5]\n",
      " [ 0.   4.7]\n",
      " [-2.1  3.3]]\n"
     ]
    }
   ],
   "source": [
    "# Create the matrix using python\n",
    "B = np.array([[1.2, -0.5], [0, 4.7], [-2.1, 3.3]])\n",
    "print(\"Matrix B:\")\n",
    "print(B)"
   ]
  },
  {
   "cell_type": "markdown",
   "id": "015a443f",
   "metadata": {},
   "source": [
    "#### Matrix addition\n",
    "Matrix addition (needless to say that subtraction follows the same rule) is done entry-wise and hence the matrices must have the same dimentionality. \n",
    "One can not for instance add a $2\\times 3$ matrix with a $3 \\times 2$ matrix. Same goes for vectors. <br>\n",
    "Let $A$ and $B$ be two 2x3 matrices with entries $a_{ij}$ and $b_{ij}$, respectively. Then we can add these matrices entry-wise to obtain the sum $C = A + B$:\n",
    "\n",
    "$$\n",
    "A = \\begin{bmatrix} 2 & 6 & -8 \\\\ -7 & 3 & 1 \\end{bmatrix} \\quad \\text{and} \\quad B = \\begin{bmatrix} 5 & -2 & 4 \\\\ 0 & -5 & 9 \\end{bmatrix}\n",
    "$$\n",
    "\n",
    "To compute $C = A + B$, we add the corresponding entries of $A$ and $B$:\n",
    "\n",
    "$$\n",
    "C = A + B = \\begin{bmatrix} 2+5 & 6+(-2) & (-8)+4 \\\\ (-7)+0 & 3+(-5) & 1+9 \\end{bmatrix} = \\begin{bmatrix} 7 & 4 & -4 \\\\ -7 & -2 & 10 \\end{bmatrix}\n",
    "$$"
   ]
  },
  {
   "cell_type": "markdown",
   "id": "5ca21507-581f-42b0-b641-c649c4c2f869",
   "metadata": {},
   "source": [
    "#### Matrix multiplication\n",
    "\n",
    "In matrix multiplication, the rows of the left matrix are multiplied by the columns of the right matrix entry-wise, summed thereafter.\n",
    "Let $A$ be a 2x2 matrix and $B$ be two 2x3 matrix give by: \n",
    "\n",
    "$$\n",
    "A = \\begin{bmatrix} 2 & 5  \\\\ 3 &  1 \\end{bmatrix} \\quad \\text{and} \\quad B = \\begin{bmatrix} 1 & 2  & 3 \\\\ 2  &  0 & 1 \\end{bmatrix}\n",
    "$$"
   ]
  },
  {
   "cell_type": "markdown",
   "id": "d1f044b5-d51a-4c62-9e14-045552df4b24",
   "metadata": {},
   "source": [
    "Let's determine $C = A B$:\n",
    "$$\n",
    "C = \\begin{bmatrix} 2 & 5  \\\\ 3 &  1 \\end{bmatrix}  \\begin{bmatrix} 1 & 2  & 3 \\\\ 2  &  0 & 1 \\end{bmatrix}\n",
    "$$"
   ]
  },
  {
   "cell_type": "markdown",
   "id": "d36688b9-c6a8-4ed5-95be-bfeb5eba1d43",
   "metadata": {},
   "source": [
    "Let $R_{i}$ be the ith row in the left matrix and $C_{j}$ be the jth column in the right matrix. The entries of the resulting matrix are determined according to:\n",
    "$$a_{ij} = R_{i} \\cdot C_{j}$$"
   ]
  },
  {
   "cell_type": "markdown",
   "id": "a00b5f72-90a5-4209-ac3a-ac59a428a464",
   "metadata": {},
   "source": [
    "We can naively think about the entries of the resulting matrix as follows:\n",
    "$$a_{11} = 2 \\cdot 1 + 5 \\cdot 2 = 12$$\n",
    "$$a_{12} = 2 \\cdot 2 + 5 \\cdot 0 = 4 $$\n",
    "$$a_{13} = 2 \\cdot 3 + 5 \\cdot 1 = 11 $$\n",
    "$$a_{21} = 3 \\cdot 1 + 1 \\cdot 2 = 5$$\n",
    "$$a_{22} = 3 \\cdot 2 + 1 \\cdot 0 = 6 $$\n",
    "$$a_{23} = 3 \\cdot 3 + 1 \\cdot 1 = 10 $$\n"
   ]
  },
  {
   "cell_type": "markdown",
   "id": "93cc64ef-8e70-47f1-bc90-bdd8d591ea04",
   "metadata": {},
   "source": [
    "Putting everything together gives $C = A B$:\n",
    "\n",
    "$$\n",
    "C = \\begin{bmatrix} 12 & 4 & 11 \\\\ 5 &  6 & 10 \\end{bmatrix}  \n",
    "$$"
   ]
  },
  {
   "cell_type": "code",
   "execution_count": 3,
   "id": "72d57eef",
   "metadata": {},
   "outputs": [
    {
     "name": "stdout",
     "output_type": "stream",
     "text": [
      "C = A + B:\n",
      " [[ 7  4 -4]\n",
      " [-7 -2 10]]\n"
     ]
    }
   ],
   "source": [
    "# Python\n",
    "A = np.array([[2,6,-8],[-7,3,1]])\n",
    "B = np.array([[5,-2,4],[0,-5,9]])\n",
    "C = A + B\n",
    "print(\"C = A + B:\\n\", C)"
   ]
  },
  {
   "cell_type": "markdown",
   "id": "f5dd1233",
   "metadata": {},
   "source": [
    "Another example of matrix multiplication\n",
    "\n",
    "Give the following two matrices $A$ and $B$, determine the product $C = AB$:\n",
    "\n",
    "$$\n",
    "A = \\begin{bmatrix}\n",
    "2 & -3 & 1 \\\\\n",
    "4 & 5 & -2 \\\\\n",
    "\\end{bmatrix}\n",
    "\\quad \\text{and} \\quad\n",
    "B = \\begin{bmatrix}\n",
    "-1 & 2 \\\\\n",
    "3 & 0 \\\\\n",
    "-2 & 1 \\\\\n",
    "\\end{bmatrix}\n",
    "$$"
   ]
  },
  {
   "cell_type": "markdown",
   "id": "5f7ecea9-639c-436a-b570-08fa5745110f",
   "metadata": {},
   "source": [
    "$$C = AB = \\begin{bmatrix} 2 & -3 & 1 \\\\ 4 & 5 & -2 \\end{bmatrix} \\begin{bmatrix} -1 & 2 \\\\ 3 & 0 \\\\ -2 & 1 \\end{bmatrix} $$"
   ]
  },
  {
   "cell_type": "markdown",
   "id": "5864d4fa-0d46-4bcb-a073-6a2c7ea8cb4e",
   "metadata": {},
   "source": [
    "$$C = \\begin{bmatrix} -2 + (-9) + (-2) & 4 + 0 + 1  \\\\ -4 + 15 + 4 & 8 + 0 + -2 \\end{bmatrix}$$"
   ]
  },
  {
   "cell_type": "markdown",
   "id": "d406f0d6-4050-48b4-870b-5acdbd8f875e",
   "metadata": {},
   "source": [
    "$$\n",
    "\\begin{aligned}\n",
    "C \n",
    "= \\begin{bmatrix} -13 & 5 \\\\ 15 & 6 \\end{bmatrix}\n",
    "\\end{aligned}\n",
    "$$"
   ]
  },
  {
   "cell_type": "markdown",
   "id": "93337fff",
   "metadata": {},
   "source": [
    "# Matrix transpose\n",
    "When transposing a matrix, the rows of the matrix become simply its columns and vise versa. <br>\n",
    "Let $A$ be a 3x4 matrix. Then the transpose of $A$, denoted by $A^T$, is obtained by interchanging its rows and columns.\n",
    "\n",
    "For example, consider the following matrix:\n",
    "\n",
    "$$\n",
    "A = \\begin{bmatrix}\n",
    "-3 & 5 & 1 & -6 \\\\\n",
    "0 & 2 & -2 & 6 \\\\\n",
    "4 & 3 & -5 & -3 \\\\\n",
    "\\end{bmatrix}\n",
    "$$\n",
    "\n",
    "To find the transpose of $A$, we interchange its rows and columns:\n",
    "\n",
    "$$\n",
    "A^T = \\begin{bmatrix}\n",
    "-3 & 0 & 4 \\\\\n",
    "5 & 2 & 3 \\\\\n",
    "1 & -2 & -5 \\\\\n",
    "-6 & 6 & -3 \\\\\n",
    "\\end{bmatrix}\n",
    "$$\n",
    "\n",
    "Therefore, the transpose of $A$ is $A^T = \\begin{bmatrix} -3 & 0 & 4 \\\\ 5 & 2 & 3 \\\\ 1 & -2 & -5 \\\\ -6 & 6 & -3 \\end{bmatrix}$.\n"
   ]
  },
  {
   "cell_type": "markdown",
   "id": "ed2a3722-ce6d-4e40-9b1b-e6c73d4afe93",
   "metadata": {},
   "source": [
    "Now let's transpose the following square matrix:\n",
    "\n",
    "$$\n",
    "A = \\begin{bmatrix}\n",
    "2 & 8 & 0  \\\\\n",
    "1 & 3 & 2  \\\\\n",
    "4 & 3 & 5  \\\\\n",
    "\\end{bmatrix}\n",
    "$$"
   ]
  },
  {
   "cell_type": "markdown",
   "id": "ee5914e6-d502-45ce-8861-090dff45cb50",
   "metadata": {},
   "source": [
    "\n",
    "$$\n",
    "A^T = \\begin{bmatrix}\n",
    "2 & 1 & 4  \\\\\n",
    "8 & 3 & 3  \\\\\n",
    "0 & 2 & 5  \\\\\n",
    "\\end{bmatrix}\n",
    "$$"
   ]
  },
  {
   "cell_type": "code",
   "execution_count": 4,
   "id": "0e129519-f2d1-4bd1-9373-24fa7df2cef3",
   "metadata": {},
   "outputs": [
    {
     "name": "stdout",
     "output_type": "stream",
     "text": [
      "Transposed matrix At:\n",
      " [[-3  0  4]\n",
      " [ 5  2  3]\n",
      " [ 1 -2 -5]\n",
      " [-6  6 -3]]\n"
     ]
    }
   ],
   "source": [
    "# Python\n",
    "import numpy as np\n",
    "A = np.array([[-3,5,1,-6],[0,2,-2,6],[4,3,-5,-3]])\n",
    "# A transpose\n",
    "At = np.transpose(A)\n",
    "print(\"Transposed matrix At:\\n\", At)"
   ]
  },
  {
   "cell_type": "markdown",
   "id": "7a562976",
   "metadata": {},
   "source": [
    "### Vector - definition\n",
    "A vector is a special kind of matrix that consists of either one row (called row vector) or one column (called column vector).\n",
    "Given $\\vec{u}$ and $\\vec{v}$ as:\n",
    "$$ \\vec{u} = \\begin{bmatrix} u_1 & u_2 & u_3 \\end{bmatrix} \\quad \\text{and} \\quad \\vec{v} = \\begin{bmatrix} v_1 \\\\ v_2 \\\\ v_3 \\end{bmatrix} $$\n",
    "Here $\\vec{u}$ is a row vector while $\\vec{v}$ is a column vector. <br>\n",
    "As an example, we could have $\\vec{u} = \\begin{bmatrix} 3 & -4 & 2 \\end{bmatrix}$ and $\\vec{v} = \\begin{bmatrix} -1 \\\\ 5 \\\\ -2 \\end{bmatrix}$.\n"
   ]
  },
  {
   "cell_type": "markdown",
   "id": "6ea7ad01",
   "metadata": {},
   "source": [
    "Following the logic from matrix transpose, when transposing a row vector one obtains a column vector and vise versa. With the previously given vectors:\n",
    "<br>\n",
    "<br>\n",
    "  $\\vec{v} = \\begin{bmatrix} -1 \\\\ 5 \\\\ -2 \\end{bmatrix} \\quad \n",
    "  \\vec{v}^{T} =  \\begin{bmatrix} -1 & 5 & -2 \\end{bmatrix} $ <br>"
   ]
  },
  {
   "cell_type": "markdown",
   "id": "d1090582",
   "metadata": {},
   "source": [
    "### Scalar product\n",
    "When taking the scalar product of two vectors one obtains a scalar (i e a number). This is accomplished by multiplying the first entry in the first vector with the first entry in the second vector, the second with the second and so on, and finaly sum all the products. <br>\n",
    "\n",
    "The scalar product (or dot product) of two vectors $\\vec{u}$ and $\\vec{v}$ is defined as the sum of the products of their corresponding entries. \n",
    "<br>\n",
    "If $\\vec{u} = \\begin{bmatrix} u_1 & u_2 & u_3 \\end{bmatrix}$ and $\\vec{v} = \\begin{bmatrix} v_1 \\\\ v_2 \\\\ v_3 \\end{bmatrix}$, \n",
    "<br>\n",
    "then the scalar product of $\\vec{u}$ and $\\vec{v}$, denoted by $\\vec{u} \\cdot \\vec{v}$, is given by: \n",
    "\n",
    "$$\n",
    "\\vec{u} \\cdot \\vec{v} = u_1v_1 + u_2v_2 + u_3v_3.\n",
    "$$\n",
    "\n",
    "Using this formula, we can compute the scalar product of the vectors $\\vec{u} = \\begin{bmatrix} 3 & -4 & 2 \\end{bmatrix}$ and $\\vec{v} = \\begin{bmatrix} -1 \\\\ 5 \\\\ -2 \\end{bmatrix}$ as follows:\n",
    "\n",
    "$$\n",
    "\\begin{aligned}\n",
    "\\vec{u} \\cdot \\vec{v} &= (3)(-1) + (-4)(5) + (2)(-2) \\\\\n",
    "&= -3 - 20 - 4 \\\\\n",
    "&= -27\n",
    "\\end{aligned}\n",
    "$$\n",
    "\n",
    "Therefore, the scalar product of the vectors $\\vec{u}$ and $\\vec{v}$ is $\\vec{u} \\cdot \\vec{v} = -27$.\n",
    "<br>\n",
    "One can easily see that for this to work, the number of entries in both vectors must be the same."
   ]
  },
  {
   "cell_type": "markdown",
   "id": "630bba52-c7cb-491c-9145-8a86bb1cad8f",
   "metadata": {},
   "source": [
    "Rewrite the following sum as s scalar product of two vector:\n",
    "$$ \\sum_{i=0}^{2}\\theta_{i} x_{i}$$"
   ]
  },
  {
   "cell_type": "markdown",
   "id": "2d2a2bcc-7e83-47c9-808f-bfdf76473253",
   "metadata": {},
   "source": [
    "$$ \\vec{\\theta} = \\begin{bmatrix} \\theta_0 \\\\ \\theta_1 \\\\ \\theta_2 \\end{bmatrix} \\quad \\text{and} \\quad \\vec{x} = \\begin{bmatrix} x_0 \\\\ x_1 \\\\ x_2 \\end{bmatrix} $$"
   ]
  },
  {
   "cell_type": "markdown",
   "id": "b846cb88-6088-48ec-93f7-5906a431269a",
   "metadata": {},
   "source": [
    "If I want to multiply the two vectors elementwise and sum the products I have to transpose $\\vec{x}$\n",
    "$$\\vec{\\theta}^{T} \\cdot \\vec{x} =  \\begin{bmatrix} \\theta_0 & \\theta_1 & \\theta_2 \\end{bmatrix}  \\cdot  \\begin{bmatrix} x_0 \\\\ x_1 \\\\ x_2 \\end{bmatrix}$$"
   ]
  },
  {
   "cell_type": "markdown",
   "id": "4f070510-fd83-423b-a3c3-2fbe0ecf28d7",
   "metadata": {},
   "source": [
    "$$ \\vec{\\theta}^T \\cdot \\vec{x} = \\theta_{0}x_0 + \\theta_{1}x_1 + \\theta_{2}x_2  $$"
   ]
  },
  {
   "cell_type": "markdown",
   "id": "37da6026-cca2-4a9c-8585-f19883592655",
   "metadata": {},
   "source": [
    "$$ \\sum_{i=0}^{2}\\theta_{i} x_{i} = \\theta_{0}x_0 + \\theta_{1}x_1 + \\theta_{2}x_2  $$\n",
    "$$ \\sum_{i=0}^{2}\\theta_{i} x_{i} = \\vec{\\theta}^T \\cdot \\vec{x} $$"
   ]
  },
  {
   "cell_type": "code",
   "execution_count": 5,
   "id": "9827ecdf",
   "metadata": {},
   "outputs": [
    {
     "name": "stdout",
     "output_type": "stream",
     "text": [
      "a = -27\n"
     ]
    }
   ],
   "source": [
    "# Python\n",
    "u = np.array([3,-4,2])\n",
    "v = np.array([-1,5,-2])\n",
    "a = np.dot(u,v)\n",
    "print(\"a =\", a)"
   ]
  },
  {
   "cell_type": "code",
   "execution_count": 6,
   "id": "b2960ab5",
   "metadata": {},
   "outputs": [
    {
     "name": "stdout",
     "output_type": "stream",
     "text": [
      "C =  [[-13   5]\n",
      " [ 15   6]]\n"
     ]
    }
   ],
   "source": [
    "# Python\n",
    "A = np.array([[2,-3,1],[4,5,-2]])\n",
    "B = np.array([[-1,2],[3,0],[-2,1]])\n",
    "D = np.array([[2, -3, 1], [4, 5, -2]])\n",
    "F = np.array([[-1, 2], [3, 0], [-2, 1]])\n",
    "\n",
    "C = np.dot(D, F)\n",
    "print(\"C = \", C)"
   ]
  },
  {
   "cell_type": "markdown",
   "id": "e4b307dd",
   "metadata": {},
   "source": [
    "### Matrix vector multiplication\n",
    "Finally here is how one multiplies a matrix with a vector. <br>\n",
    "Given a matrix $A$ and a vector $\\vec{v}$: \n",
    "<br>\n",
    "\n",
    "$$A = \\begin{bmatrix}\n",
    "1 & 2 & 3 \\\\\n",
    "4 & 5 & 6 \\\\\n",
    "7 & 8 & 9\n",
    "\\end{bmatrix}\n",
    " \\quad \\text{and} \\quad \\vec{v} = \\begin{bmatrix} 1 \\\\ 2 \\\\ 3  \\end{bmatrix},\n",
    "$$ <br>\n",
    "\n",
    "multiplying $\\matrix{A}$ with $\\vec{v}$ yields:\n",
    "\n",
    "$$\n",
    "\\begin{aligned}\n",
    "A\\vec{v} = \\begin{bmatrix}\n",
    "1 & 2 & 3 \\\\\n",
    "4 & 5 & 6 \\\\\n",
    "7 & 8 & 9\n",
    "\\end{bmatrix}\n",
    "\\begin{bmatrix}\n",
    "1 \\\\\n",
    "2 \\\\\n",
    "3\n",
    "\\end{bmatrix}\n",
    "=\n",
    "\\begin{bmatrix}\n",
    "1\\cdot 1 + 2 \\cdot 2 + 3 \\cdot 3 \\\\\n",
    "4 \\cdot 1 + 5 \\cdot 2 + 6 \\cdot 3 \\\\\n",
    "7 \\cdot 1 + 8 \\cdot 2 + 9 \\cdot 3\n",
    "\\end{bmatrix}\n",
    "=\n",
    "\\begin{bmatrix}\n",
    "14 \\\\\n",
    "32 \\\\\n",
    "50\n",
    "\\end{bmatrix}\n",
    "\\end{aligned}\n",
    "$$\n",
    "\n",
    "Notice how even here the rule of rows from the first object are multiplied with in this case the only vector from the other object."
   ]
  },
  {
   "cell_type": "code",
   "execution_count": null,
   "id": "6aa97277-66ad-4778-a3d9-eaa84ef07288",
   "metadata": {},
   "outputs": [],
   "source": []
  }
 ],
 "metadata": {
  "celltoolbar": "Raw Cell Format",
  "kernelspec": {
   "display_name": "Python 3 (ipykernel)",
   "language": "python",
   "name": "python3"
  },
  "language_info": {
   "codemirror_mode": {
    "name": "ipython",
    "version": 3
   },
   "file_extension": ".py",
   "mimetype": "text/x-python",
   "name": "python",
   "nbconvert_exporter": "python",
   "pygments_lexer": "ipython3",
   "version": "3.11.5"
  }
 },
 "nbformat": 4,
 "nbformat_minor": 5
}
